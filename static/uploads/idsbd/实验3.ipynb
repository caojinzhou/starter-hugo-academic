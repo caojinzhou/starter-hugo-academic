{
 "cells": [
  {
   "cell_type": "markdown",
   "metadata": {},
   "source": [
    "# 一元线性回归\n",
    "1.  了解输入变量和输出变量之间的关系\n",
    "2.  学习已封装好的波士顿数据集\n",
    "3.  学习线性回归的plt作图"
   ]
  },
  {
   "cell_type": "code",
   "execution_count": null,
   "metadata": {},
   "outputs": [],
   "source": [
    "import numpy as np\n",
    "import pandas as pd\n",
    "import matplotlib.pyplot as plt\n",
    "import seaborn as sns\n",
    "import plotly.graph_objs as go\n",
    "from sklearn.datasets import load_boston\n",
    "import sklearn.linear_model as lm"
   ]
  },
  {
   "cell_type": "code",
   "execution_count": null,
   "metadata": {},
   "outputs": [],
   "source": [
    "def standard_units(x):\n",
    "    return (x - np.mean(x)) / np.std(x)\n",
    "\n",
    "def correlation(x, y):\n",
    "    return np.mean(standard_units(x) * standard_units(y))\n",
    "\n",
    "def slope(x, y):\n",
    "    return correlation(x, y) * np.std(y) / np.std(x)\n",
    "\n",
    "def intercept(x, y):\n",
    "    return np.mean(y) - slope(x, y)*np.mean(x)\n",
    "\n",
    "# To do:\n",
    "# 补充mse函数，用于计算均方误差\n",
    "def mse(y, yhat):\n",
    "    \n",
    "\n",
    "# To do:\n",
    "# 补充rmse函数，即mse的平方根\n",
    "def rmse(y, yhat):\n"
   ]
  },
  {
   "cell_type": "code",
   "execution_count": null,
   "metadata": {},
   "outputs": [],
   "source": [
    "# 加载波士顿房价数据集\n",
    "boston = load_boston()\n",
    "boston_df = pd.DataFrame(boston.data)\n",
    "# To do: \n",
    "# 请在下面补充代码，将数据集的特征名称赋值给变量boston_df.columns\n",
    "boston_df.columns = \n",
    "# To do:\n",
    "# 请在下面补充代码，将数据集的目标值赋值给变量boston_df['PRICE']\n",
    "boston_df['PRICE'] = \n",
    "# To do:\n",
    "# 展示数据集的前5行\n"
   ]
  },
  {
   "cell_type": "code",
   "execution_count": null,
   "metadata": {},
   "outputs": [],
   "source": [
    "# To do:\n",
    "# 请在下面补充代码，将RM, LSTAT, PRICE三列特征值给变量boston_df\n",
    "boston_df = \n",
    "boston_df"
   ]
  },
  {
   "cell_type": "code",
   "execution_count": null,
   "metadata": {
    "scrolled": true
   },
   "outputs": [],
   "source": [
    "# To do:\n",
    "# 请在下面补充代码，将RM,PRICE两列画出散点图，其中RM为横坐标，PRICE为纵坐标\n",
    "\n",
    "plt.xlabel('average number of rooms per dwelling')\n",
    "plt.ylabel('price of the house');"
   ]
  },
  {
   "cell_type": "code",
   "execution_count": null,
   "metadata": {},
   "outputs": [],
   "source": [
    "# To do:\n",
    "# 使用correrlation函数计算RM和PRICE的相关系数\n",
    "r_boston = \n",
    "r_boston"
   ]
  },
  {
   "cell_type": "code",
   "execution_count": null,
   "metadata": {},
   "outputs": [],
   "source": [
    "# To do:\n",
    "# 请在下面补充代码，计算RM和PRICE的截距\n",
    "ahat_boston = \n",
    "# To do:\n",
    "# 请在下面补充代码，计算RM和PRICE的斜率\n",
    "bhat_boston = \n",
    "\n",
    "print(\"predicted PRICE = {} + {} * RM\".format(np.round(ahat_boston, 2), np.round(bhat_boston, 2)))"
   ]
  },
  {
   "cell_type": "code",
   "execution_count": null,
   "metadata": {},
   "outputs": [],
   "source": [
    "pred_rm_only = ahat_boston + bhat_boston*boston_df['RM']"
   ]
  },
  {
   "cell_type": "code",
   "execution_count": null,
   "metadata": {
    "scrolled": true
   },
   "outputs": [],
   "source": [
    "fig = go.Figure()\n",
    "fig.add_trace(go.Scatter(x = boston_df['RM'], y = boston_df['PRICE'], mode = 'markers', name = 'actual'))\n",
    "fig.add_trace(go.Scatter(x = boston_df['RM'], y = pred_rm_only, name = 'predictions', line=dict(color='red')))\n",
    "fig.update_layout(xaxis_title = 'RM', yaxis_title = 'PRICE')"
   ]
  },
  {
   "cell_type": "code",
   "execution_count": null,
   "metadata": {},
   "outputs": [],
   "source": [
    "# To do:\n",
    "# 请在下面补充代码，计算PRICE与pre_rm_only的均方根误差\n",
    "rmse_rm_only = \n",
    "rmse_rm_only"
   ]
  },
  {
   "cell_type": "code",
   "execution_count": null,
   "metadata": {},
   "outputs": [],
   "source": [
    "model = lm.LinearRegression(fit_intercept = True)\n",
    "# To do:\n",
    "# 请在下面补充代码，将RM，LSTAT作为特征值，PRICE作为目标值，进行数据拟合\n"
   ]
  },
  {
   "cell_type": "code",
   "execution_count": null,
   "metadata": {},
   "outputs": [],
   "source": [
    "# To do:\n",
    "# 请在下面补充代码，RM，LSTAT作为输入数据，进行预测\n",
    "pred_rm_lstat = "
   ]
  },
  {
   "cell_type": "code",
   "execution_count": null,
   "metadata": {},
   "outputs": [],
   "source": [
    "fig = go.Figure()\n",
    "fig.add_trace(go.Scatter(x = boston_df['RM'], y = boston_df['PRICE'], mode = 'markers', name = 'actual'))\n",
    "fig.add_trace(go.Scatter(x = boston_df['RM'], y = pred_rm_only, name = 'lm RM only', line=dict(color='red')))\n",
    "fig.add_trace(go.Scatter(x = boston_df['RM'], y = pred_rm_lstat, mode = 'markers', name = 'lm RM LSTAT', line=dict(color='gold')))\n",
    "fig.update_layout(xaxis_title = 'RM', yaxis_title = 'PRICE')"
   ]
  }
 ],
 "metadata": {
  "kernelspec": {
   "display_name": "Python 3.6.15 ('pytorch')",
   "language": "python",
   "name": "python3"
  },
  "language_info": {
   "codemirror_mode": {
    "name": "ipython",
    "version": 3
   },
   "file_extension": ".py",
   "mimetype": "text/x-python",
   "name": "python",
   "nbconvert_exporter": "python",
   "pygments_lexer": "ipython3",
   "version": "3.6.15"
  },
  "vscode": {
   "interpreter": {
    "hash": "e2e8ddb4de15988e6e8d3645e3fa3d3cd833fd38eaa27b2aef6b9f7c4ad9c031"
   }
  }
 },
 "nbformat": 4,
 "nbformat_minor": 4
}
